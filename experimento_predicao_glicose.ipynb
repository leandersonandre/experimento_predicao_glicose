{
  "nbformat": 4,
  "nbformat_minor": 0,
  "metadata": {
    "colab": {
      "name": "ED2.ipynb",
      "provenance": [],
      "collapsed_sections": [],
      "toc_visible": true
    },
    "kernelspec": {
      "name": "python3",
      "display_name": "Python 3"
    }
  },
  "cells": [
    {
      "cell_type": "markdown",
      "metadata": {
        "id": "TmsXzfc2UyIr",
        "colab_type": "text"
      },
      "source": [
        "## Função para gerar gráfico scatter"
      ]
    },
    {
      "cell_type": "code",
      "metadata": {
        "id": "OkRygzc_UtOp",
        "colab_type": "code",
        "colab": {}
      },
      "source": [
        "import numpy as np\n",
        "import pandas as pd\n",
        "import seaborn as sns\n",
        "import matplotlib.pyplot as plt\n",
        "\n",
        "\n",
        "def scatter_plot_with_correlation_line(x, y,title,xlabel,ylabel, graph_filepath, valor_correlacao):\n",
        "    '''\n",
        "    http://stackoverflow.com/a/34571821/395857\n",
        "    x does not have to be ordered.\n",
        "    '''\n",
        "\n",
        "    fig, ax = plt.subplots()\n",
        "    fig.subplots_adjust(bottom=0.2)\n",
        "\n",
        "    # Scatter plot\n",
        "    ax.scatter(x, y)\n",
        "\n",
        "    # Add correlation line\n",
        "\n",
        "    m, b = np.polyfit(x, y, 1)\n",
        "    X_plot = np.linspace(ax.get_xlim()[0],ax.get_xlim()[1],100)\n",
        "    ax.plot(X_plot, m*X_plot + b, '-', color='red')\n",
        "\n",
        "    props = dict(boxstyle='Square', facecolor='white', alpha=0.5)\n",
        "    ax.text(0.05, 0.95, valor_correlacao, transform=ax.transAxes, fontsize=14,\n",
        "        verticalalignment='top', bbox=props)\n",
        "\n",
        "    plt.xlabel(xlabel, labelpad=13)\n",
        "    plt.ylabel(ylabel, labelpad=13)\n",
        "    plt.title(\"\", y=1.015);\n",
        "\n",
        "    plt.savefig(graph_filepath)\n",
        "    plt.close()"
      ],
      "execution_count": 0,
      "outputs": []
    },
    {
      "cell_type": "code",
      "metadata": {
        "id": "1zR8al4F5VxG",
        "colab_type": "code",
        "colab": {}
      },
      "source": [
        "import matplotlib.pyplot as plt\n",
        "\n",
        "\n",
        "#This function takes in the reference values and the prediction values as lists and returns a list with each index corresponding to the total number\n",
        "#of points within that zone (0=A, 1=B, 2=C, 3=D, 4=E) and the plot\n",
        "def clarke_error_grid(ref_values, pred_values, title_string, texto):\n",
        "\n",
        "    #Checking to see if the lengths of the reference and prediction arrays are the same\n",
        "    assert (len(ref_values) == len(pred_values)), \"Unequal number of values (reference : {}) (prediction : {}).\".format(len(ref_values), len(pred_values))\n",
        "\n",
        "    #Checks to see if the values are within the normal physiological range, otherwise it gives a warning\n",
        "    if max(ref_values) > 400 or max(pred_values) > 400:\n",
        "        print (\"Input Warning: the maximum reference value {} or the maximum prediction value {} exceeds the normal physiological range of glucose (<400 mg/dl).\".format(max(ref_values), max(pred_values)))\n",
        "    if min(ref_values) < 0 or min(pred_values) < 0:\n",
        "        print (\"Input Warning: the minimum reference value {} or the minimum prediction value {} is less than 0 mg/dl.\".format(min(ref_values),  min(pred_values)))\n",
        "\n",
        "    #Clear plot\n",
        "    plt.clf()\n",
        "\n",
        "    #Set up plot\n",
        "    plt.scatter(ref_values, pred_values, marker='o', color='black', s=8)\n",
        "    plt.title(title_string + \" Clarke Error Grid\")\n",
        "    plt.xlabel(\"'Glucose [mg/dl]'\")\n",
        "    plt.ylabel(\"'Predição [mg/dl]'\")\n",
        "    plt.xticks([0, 50,60,70, 100, 150, 200])\n",
        "    plt.yticks([0, 50,60,70, 100, 150, 200])\n",
        "    plt.gca().set_facecolor('white')\n",
        "\n",
        "    #Set axes lengths\n",
        "    plt.gca().set_xlim([70, 200])\n",
        "    plt.gca().set_ylim([70, 200])\n",
        "    plt.gca().set_aspect((200)/(200))\n",
        "\n",
        "    #Plot zone lines\n",
        "    plt.plot([0,400], [0,400], ':', c='black')                      #Theoretical 45 regression line\n",
        "    plt.plot([0, 175/3], [70, 70], '-', c='black')\n",
        "    #plt.plot([175/3, 320], [70, 400], '-', c='black')\n",
        "    plt.plot([175/3, 400/1.2], [70, 400], '-', c='black')           #Replace 320 with 400/1.2 because 100*(400 - 400/1.2)/(400/1.2) =  20% error\n",
        "    plt.plot([70, 70], [84, 400],'-', c='black')\n",
        "    plt.plot([0, 70], [180, 180], '-', c='black')\n",
        "    plt.plot([70, 290],[180, 400],'-', c='black')\n",
        "    # plt.plot([70, 70], [0, 175/3], '-', c='black')\n",
        "    plt.plot([70, 70], [0, 56], '-', c='black')                     #Replace 175.3 with 56 because 100*abs(56-70)/70) = 20% error\n",
        "    # plt.plot([70, 400],[175/3, 320],'-', c='black')\n",
        "    plt.plot([70, 400], [56, 320],'-', c='black')\n",
        "    plt.plot([180, 180], [0, 70], '-', c='black')\n",
        "    plt.plot([180, 400], [70, 70], '-', c='black')\n",
        "    plt.plot([240, 240], [70, 180],'-', c='black')\n",
        "    plt.plot([240, 400], [180, 180], '-', c='black')\n",
        "    plt.plot([130, 180], [0, 70], '-', c='black')\n",
        "\n",
        "    #Add zone titles\n",
        "    plt.text(180, 160, \"A\", fontsize=15)\n",
        "    plt.text(100, 180, \"B\", fontsize=15)\n",
        "    plt.text(180, 120, \"B\", fontsize=15)\n",
        "    plt.text(130, 80, texto, fontsize=15)\n",
        "    #plt.text(160, 370, \"C\", fontsize=15)\n",
        "    #plt.text(160, 15, \"C\", fontsize=15)\n",
        "    #plt.text(30, 140, \"D\", fontsize=15)\n",
        "    #plt.text(370, 120, \"D\", fontsize=15)\n",
        "    #plt.text(30, 370, \"E\", fontsize=15)\n",
        "    #plt.text(370, 15, \"E\", fontsize=15)\n",
        "\n",
        "    #Statistics from the data\n",
        "    zone = [0] * 5\n",
        "    for i in range(len(ref_values)):\n",
        "        if (ref_values[i] <= 70 and pred_values[i] <= 70) or (pred_values[i] <= 1.2*ref_values[i] and pred_values[i] >= 0.8*ref_values[i]):\n",
        "            zone[0] += 1    #Zone A\n",
        "\n",
        "        elif (ref_values[i] >= 180 and pred_values[i] <= 70) or (ref_values[i] <= 70 and pred_values[i] >= 180):\n",
        "            zone[4] += 1    #Zone E\n",
        "\n",
        "        elif ((ref_values[i] >= 70 and ref_values[i] <= 290) and pred_values[i] >= ref_values[i] + 110) or ((ref_values[i] >= 130 and ref_values[i] <= 180) and (pred_values[i] <= (7/5)*ref_values[i] - 182)):\n",
        "            zone[2] += 1    #Zone C\n",
        "        elif (ref_values[i] >= 240 and (pred_values[i] >= 70 and pred_values[i] <= 180)) or (ref_values[i] <= 175/3 and pred_values[i] <= 180 and pred_values[i] >= 70) or ((ref_values[i] >= 175/3 and ref_values[i] <= 70) and pred_values[i] >= (6/5)*ref_values[i]):\n",
        "            zone[3] += 1    #Zone D\n",
        "        else:\n",
        "            zone[1] += 1    #Zone B\n",
        "\n",
        "    plt.savefig('Clarke_Error_Grid_'+title_string)\n",
        "    plt.close()\n",
        "\n",
        "    return "
      ],
      "execution_count": 0,
      "outputs": []
    },
    {
      "cell_type": "markdown",
      "metadata": {
        "id": "BcRvZO9bU36c",
        "colab_type": "text"
      },
      "source": [
        "# Importação dos dados"
      ]
    },
    {
      "cell_type": "code",
      "metadata": {
        "id": "xw2KFQruU6dW",
        "colab_type": "code",
        "colab": {}
      },
      "source": [
        "import pandas as pd\n",
        "from sklearn.preprocessing import MinMaxScaler\n",
        "from math import sin\n",
        "\n",
        "\n",
        "glucose_file_path = '/content/dados.csv'\n",
        "glucose_data = pd.read_csv(glucose_file_path)\n",
        "\n",
        "\t\n",
        "glucose_data['NIRS^2'] =  (glucose_data['NIRS'] * glucose_data['NIRS'] )\n",
        "glucose_data['Module1^2'] =  (glucose_data['Module1'] * glucose_data['Module1'] )\n",
        "glucose_data['Module2^2'] =  (glucose_data['Module2'] * glucose_data['Module2'] )\n",
        "glucose_data['Module3^2'] =  (glucose_data['Module3'] * glucose_data['Module3'] ) \n",
        "glucose_data['Phase1^2'] =  (glucose_data['Phase1'] * glucose_data['Phase1'] )\n",
        "glucose_data['Phase2^2'] =  (glucose_data['Phase2'] * glucose_data['Phase2'] )\n",
        "glucose_data['Phase3^2'] =  (glucose_data['Phase3'] * glucose_data['Phase3'] ) \n",
        "\n",
        "\n",
        "y = glucose_data.Glucometer\n",
        "\n",
        "#Selecao das colunas da base de dados\n",
        "feature_columns_normal    = ['NIRS', 'Module1', 'Module2', 'Module3', 'Phase1', 'Phase2', 'Phase3']\n",
        "\n",
        "# Normalizacao dos dados\n",
        "scaler = MinMaxScaler() \n",
        "scaled_values = scaler.fit_transform(glucose_data) \n",
        "glucose_data.loc[:,:] = scaled_values\n",
        "\n",
        "# Base com dados normalizados\n",
        "X_normalizado = glucose_data[feature_columns_normal]\n",
        "\n",
        "\n",
        "#glucose_data.describe()\n",
        "X_derivados.head()\n",
        "\n",
        "Bases_Dados = [X_normalizado]\n"
      ],
      "execution_count": 0,
      "outputs": []
    },
    {
      "cell_type": "markdown",
      "metadata": {
        "id": "3-sob3WuRvkn",
        "colab_type": "text"
      },
      "source": [
        "# Treino e teste dos algoritmos"
      ]
    },
    {
      "cell_type": "code",
      "metadata": {
        "id": "Mw_L1gGSRz8g",
        "colab_type": "code",
        "colab": {}
      },
      "source": [
        "from sklearn.model_selection import train_test_split\n",
        "from sklearn.metrics import mean_squared_error\n",
        "from sklearn.metrics import r2_score\n",
        "\n",
        "\n",
        "#=================================================\n",
        "# Métrica Mean Squared Relative Error (MSRE)\n",
        "#=================================================\n",
        "def metrica_msre(e, a):\n",
        "  valor = 0\n",
        "\n",
        "  for i in range(len(e)):\n",
        "    \n",
        "    temp = ( (e[i] - a[i]) / a[i] ) * 100.0\n",
        "    valor = valor + temp * temp\n",
        "  \n",
        "  valor = valor / len(e) \n",
        "\n",
        "  return round(valor,3)\n",
        "\n",
        "\n",
        "#=================================================\n",
        "# Calcula acuracia,desvio e intervalo de confiança\n",
        "#=================================================\n",
        "def metricas_estatisticas(e, a):\n",
        "  \n",
        "  temp = 0\n",
        "  media = 0\n",
        "  for i in range(len(e)):\n",
        "    temp = temp + (e[i] - a[i])\n",
        "    media = media + e[i]\n",
        "\n",
        "  bias = temp / len(e)\n",
        "  media = media / len(e)\n",
        "\n",
        "  temp = 0\n",
        "  for i in range(len(e)):\n",
        "    temp = temp + (e[i] - media) * (e[i] - media)\n",
        "  desvio_padrao = np.sqrt(temp / len(e))\n",
        "\n",
        "  mais_intervalo = round(bias + desvio_padrao,2);\n",
        "  menos_intervalo = round(bias - desvio_padrao,2);\n",
        "\n",
        "  return [round(bias,2),round(desvio_padrao,2),menos_intervalo,mais_intervalo]\n",
        "  \n",
        "\n",
        "#=================================================\n",
        "# Funcao utilizada no treinamento e teste do modelo\n",
        "# Gera os gráficos scatter\n",
        "#=================================================\n",
        "def teste_do_modelo2(modelo, treino_X, valor_X, treino_y, valor_y, nome_algoritmo):\n",
        "  # Predição de treino\n",
        "  predicao_de_treino = modelo.predict(treino_X)\n",
        "\n",
        "  # Calcula o erro do treino\n",
        "  mse_treino = metrica_msre(treino_y.tolist(), predicao_de_treino)\n",
        "\n",
        "  # Correlação da predicao do treino\n",
        "  correlacao_treino = round(r2_score(treino_y, predicao_de_treino),3)\n",
        "\n",
        "   # Predição de teste\n",
        "  predicao_de_teste = modelo.predict(valor_X)\n",
        "\n",
        "  # Correlação da predicao do teste\n",
        "  correlacao_teste = round(r2_score(valor_y, predicao_de_teste),3)\n",
        "\n",
        "  # Calcula o erro do treino\n",
        "  mse_teste = metrica_msre(valor_y.tolist(), predicao_de_teste)\n",
        "\n",
        "  # Geração dos gráficos\n",
        "  scatter_plot_with_correlation_line(treino_y, predicao_de_treino,'','Glucose [mg/dl]','Predição [mg/dl]', 'Treino_'+nome_algoritmo+'.png', 'R$^2$ '+str(correlacao_treino)+'\\nMSRE '+str(mse_treino))\n",
        "  scatter_plot_with_correlation_line( valor_y, predicao_de_teste, '','Glucose [mg/dl]','Predição [mg/dl]', 'Teste_'+nome_algoritmo+'.png', 'R$^2$ '+str(correlacao_teste)+'\\nMSRE '+str(mse_teste))\n",
        "  \n",
        "\n",
        "\n",
        "  predicao_completa = predicao_de_teste.tolist()\n",
        "  predicao_completa.extend(predicao_de_treino.tolist())\n",
        "\n",
        "  y_completa = valor_y.tolist()\n",
        "  y_completa.extend(treino_y.tolist())\n",
        "\n",
        "  correlacao_completa = round(r2_score(y_completa, predicao_completa),3)\n",
        "  mse_completa = metrica_msre(y_completa, predicao_completa)\n",
        "\n",
        "  metricas = metricas_estatisticas(predicao_completa,y_completa) \n",
        "  clarke_error_grid(y_completa,predicao_completa,nome_algoritmo,'R$^2$ '+str(correlacao_completa)+'\\nMSRE '+str(mse_completa))\n",
        "\n",
        "  # Retorna os resultados\n",
        "  return mse_treino, correlacao_treino, mse_teste, correlacao_teste, metricas\n",
        "\n",
        "\n",
        "#=================================================\n",
        "# Função utilizada na otimizacao dos modelos\n",
        "#=================================================\n",
        "def criacao_do_modelo(algoritmo, treino_X, valor_X, treino_y, valor_y):\n",
        "\n",
        "    # Cria o modelo de teste\n",
        "    modelo = algoritmo.fit(treino_X, treino_y)\n",
        "\n",
        "    # Predição de treino\n",
        "    predicao_de_treino = modelo.predict(treino_X)\n",
        "\n",
        "    # Calcula o erro do treino\n",
        "    mse_treino = metrica_msre(treino_y.tolist(), predicao_de_treino)\n",
        "\n",
        "    # Correlação da predicao do treino\n",
        "    correlacao_treino = r2_score(treino_y, predicao_de_treino)\n",
        "\n",
        "    # Predição de teste\n",
        "    predicao_de_teste = modelo.predict(valor_X)\n",
        "\n",
        "    # Correlação da predicao do teste\n",
        "    correlacao_teste = r2_score(valor_y, predicao_de_teste)\n",
        "\n",
        "    # Calcula o erro do treino\n",
        "    mse_teste = metrica_msre(valor_y.tolist(), predicao_de_teste)\n",
        "\n",
        "    \n",
        "    # Retorna os resultados\n",
        "    return [modelo, mse_treino >= mse_teste ,mse_treino, correlacao_treino, mse_teste, correlacao_teste]\n",
        "\n"
      ],
      "execution_count": 0,
      "outputs": []
    },
    {
      "cell_type": "markdown",
      "metadata": {
        "id": "gXcYecjkeSP9",
        "colab_type": "text"
      },
      "source": [
        "# Dados dos relatórios"
      ]
    },
    {
      "cell_type": "code",
      "metadata": {
        "id": "XdEwtLtKeWOK",
        "colab_type": "code",
        "colab": {}
      },
      "source": [
        "# Resultados do treino\n",
        "resultados_correlacao_treino = [[],[]]\n",
        "resultados_mse_treino        = [[],[]]\n",
        "\n",
        "# Resultados do teste\n",
        "resultados_correlacao_teste = [[],[]]\n",
        "resultados_mse_teste        = [[],[]]\n",
        "\n",
        "# Nome do algoritmo\n",
        "resultados_algoritmo        = [[],[]]"
      ],
      "execution_count": 0,
      "outputs": []
    },
    {
      "cell_type": "markdown",
      "metadata": {
        "id": "ZYhCCAazpoMY",
        "colab_type": "text"
      },
      "source": [
        "# Algoritmos\n",
        "\n",
        "Criação dos algoritmos de machine learning"
      ]
    },
    {
      "cell_type": "code",
      "metadata": {
        "id": "chyI5Le4qLU6",
        "colab_type": "code",
        "colab": {}
      },
      "source": [
        "algoritmos = []\n",
        "nome_algoritmos = []\n",
        "nome_curto_algoritmos = []"
      ],
      "execution_count": 0,
      "outputs": []
    },
    {
      "cell_type": "markdown",
      "metadata": {
        "id": "wI4DDjR1THxe",
        "colab_type": "text"
      },
      "source": [
        "## Divisão da Base"
      ]
    },
    {
      "cell_type": "code",
      "metadata": {
        "id": "fYi6R7rHTKAh",
        "colab_type": "code",
        "colab": {}
      },
      "source": [
        "# Cria as bases de treinamento e teste\n",
        "treino_X, valor_X, treino_y, valor_y = train_test_split(Bases_Dados[0], y,train_size = 37, random_state = 1)"
      ],
      "execution_count": 0,
      "outputs": []
    },
    {
      "cell_type": "markdown",
      "metadata": {
        "id": "DxyBuNyoVI0V",
        "colab_type": "text"
      },
      "source": [
        "## Árvore de Decisão"
      ]
    },
    {
      "cell_type": "code",
      "metadata": {
        "id": "L-HGwl02oU5X",
        "colab_type": "code",
        "colab": {
          "base_uri": "https://localhost:8080/",
          "height": 119
        },
        "outputId": "5f91503e-c511-43bf-cc9b-dacb4b63f94c"
      },
      "source": [
        "from sklearn.tree import DecisionTreeRegressor\n",
        "\n",
        "\n",
        "melhor_resultado      = []\n",
        "melhor_qtde_folhas    = -1\n",
        "melhor_qt_estimadores = -1\n",
        "identificou_melhor    = False\n",
        "\n",
        "\n",
        "# Ajuste de parametros da Árvore de Decisao\n",
        "for qtde_folhas in range(2,1000):\n",
        "\n",
        "    # Cria o modelo com o hiperparametro ajustado\n",
        "    algoritmo = DecisionTreeRegressor(max_leaf_nodes = qtde_folhas)\n",
        "\n",
        "    # Executar o teste do algorimo j na base de dados i\n",
        "    # modelo, sucesso, mse_treino, cor_treino, mse_teste, correlacao_teste  \n",
        "    resultado = criacao_do_modelo(algoritmo,treino_X, valor_X, treino_y, valor_y )\n",
        "    # Verifica se teve sucesso em generalizar o modelo\n",
        "    # ou seja, o teste deve ter melhor performance que o treinamento\n",
        "    if(resultado[1]):\n",
        "      #print(\"qtde folhas : \",qtde_folhas,\"Treino [ M=\", mse_treino, \", R=\",cor_treino,\"] Teste [M=\",mse_teste,\",R=\",correlacao_teste,\"]\")\n",
        "      # identifica o melhor algoritmo\n",
        "      if(identificou_melhor == False or melhor_resultado[4] > resultado[4]):\n",
        "        melhor_resultado = resultado\n",
        "        melhor_qtde_folhas = qtde_folhas\n",
        "        identificou_melhor = True\n",
        "\n",
        "if (identificou_melhor):\n",
        "\n",
        "  print(\"+------------------------------------------+\")\n",
        "  print(\"|     Modelo de Arvore          |\")\n",
        "  print(\"+------------------------------------------+\")\n",
        "  print(\"| Qtde de Folhas : \",melhor_qtde_folhas)\n",
        "  print(\"| MSE : \",melhor_resultado[4])\n",
        "  print(\"+------------------------------------------+\")\n",
        "\n",
        "  algoritmos.append(melhor_resultado[0])\n",
        "  nome_algoritmos.append('DecisionTree')\n",
        "  nome_curto_algoritmos.append('DTree')\n",
        "else:\n",
        "  print(\"+------------------------------------------+\")\n",
        "  print(\"|     Nao gerou Modelo de Arvore      |\")\n",
        "  print(\"+------------------------------------------+\")"
      ],
      "execution_count": 170,
      "outputs": [
        {
          "output_type": "stream",
          "text": [
            "+------------------------------------------+\n",
            "|     Modelo de Arvore          |\n",
            "+------------------------------------------+\n",
            "| Qtde de Folhas :  5\n",
            "| MSE :  32.055\n",
            "+------------------------------------------+\n"
          ],
          "name": "stdout"
        }
      ]
    },
    {
      "cell_type": "code",
      "metadata": {
        "id": "8SYmGu8-7aZ0",
        "colab_type": "code",
        "colab": {
          "base_uri": "https://localhost:8080/",
          "height": 498
        },
        "outputId": "6d70675a-4011-4743-aa69-e81e82c4f97a"
      },
      "source": [
        "# Gera imagem da arvore de decisao\n",
        "from sklearn.externals.six import StringIO  \n",
        "from IPython.display import Image  \n",
        "from sklearn.tree import export_graphviz\n",
        "import pydotplus\n",
        "dot_data = StringIO()\n",
        "export_graphviz(algoritmos[0], out_file=dot_data,  \n",
        "                filled=True, rounded=True,\n",
        "                special_characters=True)\n",
        "graph = pydotplus.graph_from_dot_data(dot_data.getvalue())  \n",
        "Image(graph.create_png())"
      ],
      "execution_count": 171,
      "outputs": [
        {
          "output_type": "execute_result",
          "data": {
            "image/png": "[encoded data removed]",
            "text/plain": [
              "<IPython.core.display.Image object>"
            ]
          },
          "metadata": {
            "tags": []
          },
          "execution_count": 171
        }
      ]
    },
    {
      "cell_type": "markdown",
      "metadata": {
        "id": "opzsg_2COiD1",
        "colab_type": "text"
      },
      "source": [
        "# ANN - Multilayered Perceptron regressor."
      ]
    },
    {
      "cell_type": "code",
      "metadata": {
        "id": "UhvKTOD7Pmh_",
        "colab_type": "code",
        "outputId": "6fa15af3-966c-4ae5-fc69-90a30fe1f86c",
        "colab": {
          "base_uri": "https://localhost:8080/",
          "height": 153
        }
      },
      "source": [
        "from sklearn.neural_network import MLPRegressor\n",
        "\n",
        "\n",
        "melhor_resultado = []\n",
        "melhor_ativacao   = ''\n",
        "melhor_tamanho_camadas_escondidas   = -1\n",
        "melhor_rate = 0\n",
        "identificou_melhor   = False\n",
        "\n",
        "lista = ['identity', 'logistic', 'tanh', 'relu']\n",
        "\n",
        "rates = []\n",
        "m = 0.001\n",
        "for i in range(10):\n",
        "  rates.append(m)\n",
        "  m = m + 0.001\n",
        "\n",
        "for tamanho_camadas in range(1,200):\n",
        " for l in lista:\n",
        "  for r in rates:\n",
        "    algoritmo = MLPRegressor(hidden_layer_sizes=(tamanho_camadas,),\n",
        "                                       solver='lbfgs',\n",
        "                                       activation=l,\n",
        "                                       learning_rate='adaptive',\n",
        "                                       max_iter=100,\n",
        "                                       learning_rate_init=r,\n",
        "                                       alpha=0.01)\n",
        "\n",
        "    # Executar o teste do algorimo j na base de dados i\n",
        "    # modelo, sucesso, mse_treino, cor_treino, mse_teste, correlacao_teste  \n",
        "    resultado = criacao_do_modelo(algoritmo,treino_X, valor_X, treino_y, valor_y )\n",
        "    # Verifica se teve sucesso em generalizar o modelo\n",
        "    # ou seja, o teste deve ter melhor performance que o treinamento\n",
        "    if(resultado[1]):\n",
        "      #print(\"camadas : \",camadas,\"activation : \",l,\"Treino [ M=\", mse_treino, \", R=\",cor_treino,\"] Teste [M=\",mse_teste,\",R=\",correlacao_teste,\"]\")\n",
        "      # identifica o melhor algoritmo\n",
        "      if(identificou_melhor == False or melhor_resultado[4] > resultado[4]):\n",
        "        melhor_resultado = resultado\n",
        "        melhor_ativacao = l\n",
        "        melhor_rate = r\n",
        "        melhor_tamanho_camadas_escondidas = tamanho_camadas\n",
        "        identificou_melhor = True\n",
        "\n",
        "if (identificou_melhor):\n",
        "\n",
        "  print(\"+------------------------------------------+\")\n",
        "  print(\"|     Modelo de ANN                        |\")\n",
        "  print(\"+------------------------------------------+\")\n",
        "  print(\"| Ativacao : \",melhor_ativacao)\n",
        "  print(\"| Tamanho camadas escondidas : \",melhor_tamanho_camadas_escondidas)\n",
        "  print(\"| Melhor Learning Rate : \",melhor_rate)\n",
        "  print(\"| MSE : \",melhor_resultado[4])\n",
        "  print(\"+------------------------------------------+\")\n",
        "\n",
        "  algoritmos.append(melhor_resultado[0])\n",
        "  nome_algoritmos.append('ANN')\n",
        "  nome_curto_algoritmos.append('  ANN')\n",
        "\n",
        "else:\n",
        "\n",
        "  print(\"+------------------------------------------+\")\n",
        "  print(\"|     Nao gerou Modelo de ANN              |\")\n",
        "  print(\"+------------------------------------------+\")"
      ],
      "execution_count": 172,
      "outputs": [
        {
          "output_type": "stream",
          "text": [
            "+------------------------------------------+\n",
            "|     Modelo de ANN                        |\n",
            "+------------------------------------------+\n",
            "| Ativacao :  logistic\n",
            "| Tamanho camadas escondidas :  21\n",
            "| Melhor Learning Rate :  0.003\n",
            "| MSE :  1.462\n",
            "+------------------------------------------+\n"
          ],
          "name": "stdout"
        }
      ]
    },
    {
      "cell_type": "markdown",
      "metadata": {
        "id": "k01eHjvmp0xq",
        "colab_type": "text"
      },
      "source": [
        "\n",
        "# Experimentos\n",
        "\n",
        "Execução dos experimentos"
      ]
    },
    {
      "cell_type": "code",
      "metadata": {
        "id": "vodnITeIp4rI",
        "colab_type": "code",
        "colab": {}
      },
      "source": [
        "\n",
        "resultados_metricas = [[]]\n",
        "\n",
        "\n",
        "for j in range(len(algoritmos)):\n",
        "\n",
        "    total_mse_treino = 0;\n",
        "    total_cor_treino = 0;\n",
        "    total_mse_teste = 0;\n",
        "    total_correlacao_teste = 0;\n",
        "\n",
        "    # Executar o teste do algorimo j na base de dados i\n",
        "    mse_treino, cor_treino, mse_teste, correlacao_teste, metricas  = teste_do_modelo2(algoritmos[j],treino_X, valor_X, treino_y, valor_y, nome_algoritmos[j])\n",
        "    total_mse_treino = total_mse_treino + mse_treino\n",
        "    total_cor_treino = total_cor_treino + cor_treino\n",
        "    total_mse_teste = total_mse_teste + mse_teste\n",
        "    total_correlacao_teste = total_correlacao_teste + correlacao_teste\n",
        "\n",
        "    # reportar os resultados\n",
        "    resultados_correlacao_treino[0].append(round(total_cor_treino,3))\n",
        "    resultados_mse_treino[0].append(round(total_mse_treino,3))\n",
        "    resultados_correlacao_teste[0].append(round(total_correlacao_teste,3))\n",
        "    resultados_mse_teste[0].append(round(total_mse_teste,3))\n",
        "    resultados_algoritmo[0].append(nome_curto_algoritmos[j])\n",
        "    resultados_metricas[0].append(metricas)"
      ],
      "execution_count": 0,
      "outputs": []
    },
    {
      "cell_type": "markdown",
      "metadata": {
        "id": "eVgNyEitf3_O",
        "colab_type": "text"
      },
      "source": [
        "# Resultados"
      ]
    },
    {
      "cell_type": "code",
      "metadata": {
        "id": "hb-g3vcsf6cY",
        "colab_type": "code",
        "outputId": "ffd3128c-62bb-46ca-c672-d001e96cc71d",
        "colab": {
          "base_uri": "https://localhost:8080/",
          "height": 391
        }
      },
      "source": [
        "# Imprimir os resultados\n",
        "\n",
        "for j in range(len(resultados_algoritmo)):\n",
        "  print(\"+-----------------------------------------------+\")\n",
        "  print(\"|                Treinamento \",j,\"                |\")\n",
        "  print(\"+-----------------------------------------------+\")\n",
        "  print('Algoritmo: ',end=(''))\n",
        "  for i in range(len(resultados_algoritmo[j])):\n",
        "    print(resultados_algoritmo[j][i].ljust(6)+'\\t',end=(''))\n",
        "\n",
        "  print('')\n",
        "  print('R^2Treino: ',end=(''))\n",
        "  for i in range(len(resultados_correlacao_treino[j])):\n",
        "    print(str(resultados_correlacao_treino[j][i]).ljust(6)+'\\t',end=(''))\n",
        "\n",
        "\n",
        "  print('')\n",
        "  print('mseTreino: ',end=(''))\n",
        "  for i in range(len(resultados_mse_treino[j])):\n",
        "    print(str(resultados_mse_treino[j][i]).ljust(6)+'\\t',end=(''))\n",
        "\n",
        "\n",
        "  print('')\n",
        "  print('---')\n",
        "  print('R^2 Teste: ',end=(''))\n",
        "  for i in range(len(resultados_correlacao_teste[j])):\n",
        "    print(str(resultados_correlacao_teste[j][i]).ljust(6)+'\\t',end=(''))\n",
        "\n",
        "\n",
        "  print('')\n",
        "  print('mse Teste: ',end=(''))\n",
        "  for i in range(len(resultados_mse_teste[j])):\n",
        "    print(str(resultados_mse_teste[j][i]).ljust(6)+'\\t',end=(''))\n",
        "  print('')\n",
        "\n",
        "  print('')\n",
        "  print('Metricas: ',end=(''))\n",
        "  for i in range(len(resultados_mse_teste[j])):\n",
        "    print(str(resultados_metricas[j][i]).ljust(6)+'\\t',end=(''))\n",
        "  print('')"
      ],
      "execution_count": 174,
      "outputs": [
        {
          "output_type": "stream",
          "text": [
            "+-----------------------------------------------+\n",
            "|                Treinamento  0                 |\n",
            "+-----------------------------------------------+\n",
            "Algoritmo: DTree \t  ANN \t\n",
            "R^2Treino: 0.82  \t0.974 \t\n",
            "mseTreino: 44.637\t5.813 \t\n",
            "---\n",
            "R^2 Teste: 0.888 \t0.995 \t\n",
            "mse Teste: 32.055\t1.462 \t\n",
            "\n",
            "Metricas: [1.06, 19.21, -18.15, 20.28]\t[-0.1, 20.23, -20.32, 20.13]\t\n",
            "+-----------------------------------------------+\n",
            "|                Treinamento  1                 |\n",
            "+-----------------------------------------------+\n",
            "Algoritmo: \n",
            "R^2Treino: \n",
            "mseTreino: \n",
            "---\n",
            "R^2 Teste: \n",
            "mse Teste: \n",
            "\n",
            "Metricas: \n"
          ],
          "name": "stdout"
        }
      ]
    },
    {
      "cell_type": "markdown",
      "metadata": {
        "id": "K8vOQY-4JEcB",
        "colab_type": "text"
      },
      "source": [
        "# Limpar diretório"
      ]
    },
    {
      "cell_type": "code",
      "metadata": {
        "id": "1VU86ofaDC3n",
        "colab_type": "code",
        "colab": {}
      },
      "source": [
        "import os\n",
        "import glob\n",
        "\n",
        "files = glob.glob('/content/*')\n",
        "for f in files:\n",
        "    try:\n",
        "      #os.remove(f)\n",
        "      a =0\n",
        "    except OSError:\n",
        "      a= 0;"
      ],
      "execution_count": 0,
      "outputs": []
    }
  ]
}